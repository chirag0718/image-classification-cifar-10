{
 "cells": [
  {
   "cell_type": "code",
   "execution_count": null,
   "metadata": {
    "id": "QhLnK_FJzvju"
   },
   "outputs": [],
   "source": [
    "import tensorflow as tf\n",
    "import matplotlib.pyplot as plt\n",
    "import numpy as np\n",
    "from tensorflow.keras.models import Sequential\n",
    "from tensorflow.keras import datasets\n",
    "from tensorflow.keras.layers import Conv2D, MaxPool2D, Flatten, Dense, MaxPooling2D,Dropout, BatchNormalization\n",
    "import random\n",
    "import matplotlib.pyplot as plt"
   ]
  },
  {
   "cell_type": "code",
   "execution_count": null,
   "metadata": {
    "id": "XgSjepyuyaa6"
   },
   "outputs": [],
   "source": [
    "def preProcessing(cifar_dataset):\n",
    "    # Downloading the dataset\n",
    "    (X_train, y_train), (X_test, y_test) = cifar_dataset\n",
    "\n",
    "    # Normalize pixel the value between 1 and 0\n",
    "    X_train, X_test = X_train / 255.0, X_test / 255.0\n",
    "\n",
    "    # one hot encoding or format accepted by tensorflow - vector structure.\n",
    "    y_train, y_test = y_train.flatten(), y_test.flatten()\n",
    "\n",
    "    # Printing the X_train and y_train\n",
    "    print(\"X_train shape\", X_train.shape)\n",
    "    print(\"y_train shape\", y_train.shape)\n",
    "\n",
    "    return X_train, y_train, X_test, y_test\n"
   ]
  },
  {
   "cell_type": "code",
   "execution_count": null,
   "metadata": {
    "id": "G7kPZkv0yp8W"
   },
   "outputs": [],
   "source": [
    "# Generate 10 random images through X_train and y_train data for ten classes\n",
    "def displayTenRandomImages(images, labels):\n",
    "    class_names = ['airplane', 'automobile', 'bird', 'cat', 'deer',\n",
    "               'dog', 'frog', 'horse', 'ship', 'truck']\n",
    "    temp = class_names.copy()\n",
    "    plt.figure(figsize=(10,10))\n",
    "    j = 0\n",
    "    while len(temp) > 0:\n",
    "        index = random.randint(0,len(labels))\n",
    "        class_name = class_names[(labels[index])]\n",
    "        if temp and class_name in temp:\n",
    "            plt.subplot(5,5,j+1)\n",
    "            plt.xticks([])\n",
    "            plt.yticks([])\n",
    "            plt.grid(False)\n",
    "            plt.imshow(images[index])\n",
    "            plt.xlabel(class_names[labels[index]])\n",
    "            temp.remove(class_name)\n",
    "            j += 1\n",
    "            \n",
    "    plt.show()"
   ]
  },
  {
   "cell_type": "code",
   "execution_count": null,
   "metadata": {
    "id": "7YzwDw9P5xKl"
   },
   "outputs": [],
   "source": [
    "def cnn_model():\n",
    "    model = Sequential([\n",
    "    Conv2D(32, (3, 3), activation='relu', padding=\"same\" , input_shape=(32, 32, 3)),\n",
    "    Conv2D(32, (3, 3), activation='relu', padding=\"same\"),\n",
    "    MaxPooling2D((2, 2)),\n",
    "    Conv2D(64, (3,3), activation='relu', padding=\"same\"),\n",
    "    Conv2D(64, (3,3), activation='relu', padding=\"same\"),\n",
    "    MaxPooling2D((2, 2)),\n",
    "    Conv2D(128, (3, 3), activation='relu', padding=\"same\"),\n",
    "    Conv2D(128, (3, 3), activation='relu', padding=\"same\"),\n",
    "    MaxPooling2D((2, 2)),\n",
    "    Flatten(),\n",
    "    Dense(1024, activation='relu'),\n",
    "    Dense(10, activation=\"softmax\") # Number of classes\n",
    "    ])\n",
    "\n",
    "    # Compile the model\n",
    "    model.compile(optimizer='adam',\n",
    "                loss=tf.keras.losses.SparseCategoricalCrossentropy(),\n",
    "                metrics=['accuracy'])\n",
    "\n",
    "    return model"
   ]
  },
  {
   "cell_type": "code",
   "execution_count": null,
   "metadata": {
    "id": "bi4wDY4Y_Wsg"
   },
   "outputs": [],
   "source": [
    "def model_summary(result):\n",
    "    # Displaying Loss and Accuracy\n",
    "    plt.figure(figsize=(12,4))\n",
    "    plt.subplot(1,2,1)\n",
    "    plt.plot(result.history['loss'], label='loss')\n",
    "    plt.plot(result.history['val_loss'], label='val_loss')\n",
    "    plt.title('Loss')\n",
    "    plt.legend()\n",
    "    \n",
    "    plt.subplot(1, 2, 2)\n",
    "    plt.plot(result.history['accuracy'], label='accuracy')\n",
    "    plt.plot(result.history['val_accuracy'], label='val_accuracy')\n",
    "    plt.title('Accuracy')\n",
    "    plt.legend()"
   ]
  },
  {
   "cell_type": "code",
   "execution_count": null,
   "metadata": {
    "id": "W1e6fFW16w4i"
   },
   "outputs": [],
   "source": [
    "def run_model():\n",
    "    \n",
    "    # Loading and pre processing data\n",
    "    X_train, y_train, X_test, y_test = preProcessing(datasets.cifar10.load_data())\n",
    "    \n",
    "    # Display ten random images\n",
    "    displayTenRandomImages(X_train, y_train)\n",
    "\n",
    "    # Loading model\n",
    "    model = cnn_model()\n",
    "\n",
    "    # Early Stopping with patience 10\n",
    "    callback = tf.keras.callbacks.EarlyStopping(monitor='val_loss', patience=10)\n",
    "\n",
    "    # model fit\n",
    "    result = model.fit(X_train, y_train, epochs=100, \n",
    "                    validation_data=(X_test, y_test), callbacks=[callback], verbose=2)\n",
    "    \n",
    "    # Displaying accuracy and loss\n",
    "    model_summary(result)\n",
    "\n",
    "    # Evaluate model\n",
    "    test_loss, test_acc = model.evaluate(X_test,  y_test, verbose=2)\n",
    "    print(\"Total Accuracy\", test_acc)\n",
    "    \n",
    "    # Save model\n",
    "    model.save('final_model.h5')"
   ]
  },
  {
   "cell_type": "code",
   "execution_count": null,
   "metadata": {
    "colab": {
     "base_uri": "https://localhost:8080/",
     "height": 940
    },
    "id": "HK7zo82k_AQ6",
    "outputId": "3b60bb0c-1c1f-47c4-d2c1-abc009762e9d"
   },
   "outputs": [
    {
     "name": "stdout",
     "output_type": "stream",
     "text": [
      "X_train shape (50000, 32, 32, 3)\n",
      "y_train shape (50000,)\n",
      "Epoch 1/100\n",
      "1563/1563 - 25s - loss: 1.4638 - accuracy: 0.4628 - val_loss: 1.2097 - val_accuracy: 0.5725 - 25s/epoch - 16ms/step\n",
      "Epoch 2/100\n",
      "1563/1563 - 24s - loss: 0.9929 - accuracy: 0.6486 - val_loss: 0.9148 - val_accuracy: 0.6749 - 24s/epoch - 15ms/step\n",
      "Epoch 3/100\n",
      "1563/1563 - 24s - loss: 0.8041 - accuracy: 0.7170 - val_loss: 0.7569 - val_accuracy: 0.7329 - 24s/epoch - 15ms/step\n",
      "Epoch 4/100\n",
      "1563/1563 - 23s - loss: 0.6916 - accuracy: 0.7562 - val_loss: 0.7094 - val_accuracy: 0.7544 - 23s/epoch - 15ms/step\n",
      "Epoch 5/100\n",
      "1563/1563 - 24s - loss: 0.6030 - accuracy: 0.7879 - val_loss: 0.6892 - val_accuracy: 0.7677 - 24s/epoch - 16ms/step\n",
      "Epoch 6/100\n",
      "1563/1563 - 24s - loss: 0.5370 - accuracy: 0.8111 - val_loss: 0.6976 - val_accuracy: 0.7704 - 24s/epoch - 15ms/step\n",
      "Epoch 7/100\n",
      "1563/1563 - 24s - loss: 0.4827 - accuracy: 0.8302 - val_loss: 0.6845 - val_accuracy: 0.7739 - 24s/epoch - 15ms/step\n",
      "Epoch 8/100\n",
      "1563/1563 - 24s - loss: 0.4340 - accuracy: 0.8471 - val_loss: 0.7239 - val_accuracy: 0.7734 - 24s/epoch - 15ms/step\n",
      "Epoch 9/100\n",
      "1563/1563 - 23s - loss: 0.3938 - accuracy: 0.8594 - val_loss: 0.7181 - val_accuracy: 0.7727 - 23s/epoch - 15ms/step\n",
      "Epoch 10/100\n",
      "1563/1563 - 24s - loss: 0.3578 - accuracy: 0.8729 - val_loss: 0.7754 - val_accuracy: 0.7717 - 24s/epoch - 15ms/step\n",
      "Epoch 11/100\n",
      "1563/1563 - 23s - loss: 0.3313 - accuracy: 0.8842 - val_loss: 0.7811 - val_accuracy: 0.7742 - 23s/epoch - 15ms/step\n",
      "Epoch 12/100\n",
      "1563/1563 - 23s - loss: 0.3117 - accuracy: 0.8903 - val_loss: 0.8360 - val_accuracy: 0.7730 - 23s/epoch - 15ms/step\n",
      "Epoch 13/100\n",
      "1563/1563 - 23s - loss: 0.2995 - accuracy: 0.8955 - val_loss: 0.8167 - val_accuracy: 0.7757 - 23s/epoch - 15ms/step\n",
      "Epoch 14/100\n",
      "1563/1563 - 23s - loss: 0.2840 - accuracy: 0.9015 - val_loss: 0.8589 - val_accuracy: 0.7633 - 23s/epoch - 15ms/step\n",
      "Epoch 15/100\n",
      "1563/1563 - 24s - loss: 0.2751 - accuracy: 0.9030 - val_loss: 0.8141 - val_accuracy: 0.7791 - 24s/epoch - 15ms/step\n",
      "Epoch 16/100\n",
      "1563/1563 - 24s - loss: 0.2578 - accuracy: 0.9110 - val_loss: 0.8746 - val_accuracy: 0.7719 - 24s/epoch - 15ms/step\n",
      "Epoch 17/100\n",
      "1563/1563 - 24s - loss: 0.2592 - accuracy: 0.9117 - val_loss: 0.8880 - val_accuracy: 0.7831 - 24s/epoch - 15ms/step\n",
      "313/313 - 2s - loss: 0.8880 - accuracy: 0.7831 - 2s/epoch - 6ms/step\n",
      "0.7831000089645386\n"
     ]
    },
    {
     "data": {
      "image/png": "[encoded data removed]",
      "text/plain": [
       "<Figure size 864x288 with 2 Axes>"
      ]
     },
     "metadata": {
      "needs_background": "light"
     },
     "output_type": "display_data"
    }
   ],
   "source": [
    "run_model()"
   ]
  }
 ],
 "metadata": {
  "colab": {
   "collapsed_sections": [],
   "name": "Model 2 Final.ipynb",
   "provenance": []
  },
  "kernelspec": {
   "display_name": "Python 3 (ipykernel)",
   "language": "python",
   "name": "python3"
  },
  "language_info": {
   "codemirror_mode": {
    "name": "ipython",
    "version": 3
   },
   "file_extension": ".py",
   "mimetype": "text/x-python",
   "name": "python",
   "nbconvert_exporter": "python",
   "pygments_lexer": "ipython3",
   "version": "3.8.5"
  }
 },
 "nbformat": 4,
 "nbformat_minor": 1
}
