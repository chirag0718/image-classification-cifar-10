{
  "cells": [
    {
      "cell_type": "code",
      "execution_count": null,
      "metadata": {
        "id": "QhLnK_FJzvju"
      },
      "outputs": [],
      "source": [
        "import tensorflow as tf\n",
        "import matplotlib.pyplot as plt\n",
        "import numpy as np\n",
        "from tensorflow.keras.models import Sequential\n",
        "from tensorflow.keras import datasets\n",
        "from tensorflow.keras.layers import Conv2D, MaxPool2D, Flatten, Dense, MaxPooling2D,Dropout, BatchNormalization\n",
        "import random\n",
        "import matplotlib.pyplot as plt"
      ]
    },
    {
      "cell_type": "code",
      "execution_count": null,
      "metadata": {
        "id": "XgSjepyuyaa6"
      },
      "outputs": [],
      "source": [
        "def preProcessing(cifar_dataset):\n",
        "    # Downloading the dataset\n",
        "    (X_train, y_train), (X_test, y_test) = cifar_dataset\n",
        "\n",
        "    # Normalize pixel the value between 1 and 0\n",
        "    X_train, X_test = X_train / 255.0, X_test / 255.0\n",
        "\n",
        "    # one hot encoding or format accepted by tensorflow - vector structure.\n",
        "    y_train, y_test = y_train.flatten(), y_test.flatten()\n",
        "\n",
        "    # Printing the X_train and y_train\n",
        "    print(\"X_train shape\", X_train.shape)\n",
        "    print(\"y_train shape\", y_train.shape)\n",
        "\n",
        "    return X_train, y_train, X_test, y_test\n"
      ]
    },
    {
      "cell_type": "code",
      "execution_count": null,
      "metadata": {
        "id": "G7kPZkv0yp8W"
      },
      "outputs": [],
      "source": [
        "# Generate 10 random images through X_train and y_train data for ten classes\n",
        "def displayTenRandomImages(images, labels):\n",
        "    class_names = ['airplane', 'automobile', 'bird', 'cat', 'deer',\n",
        "               'dog', 'frog', 'horse', 'ship', 'truck']\n",
        "    temp = class_names.copy()\n",
        "    plt.figure(figsize=(10,10))\n",
        "    j = 0\n",
        "    while len(temp) > 0:\n",
        "        index = random.randint(0,len(labels))\n",
        "        class_name = class_names[(labels[index])]\n",
        "        if temp and class_name in temp:\n",
        "            plt.subplot(5,5,j+1)\n",
        "            plt.xticks([])\n",
        "            plt.yticks([])\n",
        "            plt.grid(False)\n",
        "            plt.imshow(images[index])\n",
        "            plt.xlabel(class_names[labels[index]])\n",
        "            temp.remove(class_name)\n",
        "            j += 1\n",
        "            \n",
        "    plt.show()"
      ]
    },
    {
      "cell_type": "code",
      "execution_count": null,
      "metadata": {
        "id": "7YzwDw9P5xKl"
      },
      "outputs": [],
      "source": [
        "def cnn_model():\n",
        "    model = Sequential([\n",
        "        Conv2D(32, (3, 3), activation='relu', padding=\"same\" , input_shape=(32, 32, 3)),\n",
        "        BatchNormalization(),\n",
        "        Conv2D(32, (3, 3), activation='relu', padding=\"same\"),\n",
        "        BatchNormalization(),\n",
        "        MaxPooling2D((2, 2)),\n",
        "        Dropout(0.2),\n",
        "        Conv2D(64, (3,3), activation='relu', padding=\"same\"),\n",
        "        BatchNormalization(),\n",
        "        Conv2D(64, (3,3), activation='relu', padding=\"same\"),\n",
        "        BatchNormalization(),\n",
        "        MaxPooling2D((2, 2)),\n",
        "        Dropout(0.2),\n",
        "        Conv2D(128, (3, 3), activation='relu', padding=\"same\"),\n",
        "        BatchNormalization(),\n",
        "        Conv2D(128, (3, 3), activation='relu', padding=\"same\"),\n",
        "        BatchNormalization(),\n",
        "        MaxPooling2D((2, 2)),\n",
        "        Dropout(0.2),\n",
        "        Flatten(),\n",
        "        Dense(1024, activation='relu'),\n",
        "        Dropout(0.2),\n",
        "        Dense(10, activation=\"softmax\") # Number of classes\n",
        "    ])\n",
        "\n",
        "    model.compile(optimizer='adam',\n",
        "                loss=tf.keras.losses.SparseCategoricalCrossentropy(),\n",
        "                metrics=['accuracy'])\n",
        "\n",
        "    return model"
      ]
    },
    {
      "cell_type": "code",
      "execution_count": null,
      "metadata": {
        "id": "bi4wDY4Y_Wsg"
      },
      "outputs": [],
      "source": [
        "def model_summary(result):\n",
        "    # Displaying Loss and Accuracy\n",
        "    plt.figure(figsize=(12,4))\n",
        "    plt.subplot(1,2,1)\n",
        "    plt.plot(result.history['loss'], label='loss')\n",
        "    plt.plot(result.history['val_loss'], label='val_loss')\n",
        "    plt.title('Loss')\n",
        "    plt.legend()\n",
        "    \n",
        "    plt.subplot(1, 2, 2)\n",
        "    plt.plot(result.history['accuracy'], label='accuracy')\n",
        "    plt.plot(result.history['val_accuracy'], label='val_accuracy')\n",
        "    plt.title('Accuracy')\n",
        "    plt.legend()"
      ]
    },
    {
      "cell_type": "code",
      "execution_count": null,
      "metadata": {
        "id": "W1e6fFW16w4i"
      },
      "outputs": [],
      "source": [
        "def run_model():\n",
        "    \n",
        "    # Loading and pre processing data\n",
        "    X_train, y_train, X_test, y_test = preProcessing(datasets.cifar10.load_data())\n",
        "\n",
        "    # Loading model\n",
        "    model = cnn_model()\n",
        "\n",
        "    # Early Stopping with patience 10\n",
        "    callback = tf.keras.callbacks.EarlyStopping(monitor='val_loss', patience=10)\n",
        "\n",
        "    # model fit\n",
        "    result = model.fit(X_train, y_train, epochs=100, \n",
        "                    validation_data=(X_test, y_test), callbacks=[callback], verbose=2)\n",
        "    \n",
        "    # Displaying accuracy and loss\n",
        "    model_summary(result)\n",
        "\n",
        "    # Evaluate model\n",
        "    test_loss, test_acc = model.evaluate(X_test,  y_test, verbose=2)\n",
        "    print(\"Total Accuracy\", test_acc)\n",
        "    \n",
        "    # Save model\n",
        "    model.save('drop_outand_batch_normalize_final_model.h5')"
      ]
    },
    {
      "cell_type": "code",
      "execution_count": null,
      "metadata": {
        "colab": {
          "base_uri": "https://localhost:8080/",
          "height": 905
        },
        "id": "HK7zo82k_AQ6",
        "outputId": "5fecd95f-bd57-46d8-bd65-3f4c1550caac"
      },
      "outputs": [
        {
          "output_type": "stream",
          "name": "stdout",
          "text": [
            "Downloading data from https://www.cs.toronto.edu/~kriz/cifar-10-python.tar.gz\n",
            "170500096/170498071 [==============================] - 6s 0us/step\n",
            "170508288/170498071 [==============================] - 6s 0us/step\n",
            "X_train shape (50000, 32, 32, 3)\n",
            "y_train shape (50000,)\n",
            "Epoch 1/100\n",
            "1563/1563 - 39s - loss: 1.3640 - accuracy: 0.5308 - val_loss: 1.0243 - val_accuracy: 0.6399 - 39s/epoch - 25ms/step\n",
            "Epoch 2/100\n",
            "1563/1563 - 28s - loss: 0.9023 - accuracy: 0.6845 - val_loss: 0.7994 - val_accuracy: 0.7305 - 28s/epoch - 18ms/step\n",
            "Epoch 3/100\n",
            "1563/1563 - 28s - loss: 0.7559 - accuracy: 0.7404 - val_loss: 0.7623 - val_accuracy: 0.7427 - 28s/epoch - 18ms/step\n",
            "Epoch 4/100\n",
            "1563/1563 - 27s - loss: 0.6589 - accuracy: 0.7721 - val_loss: 0.7748 - val_accuracy: 0.7462 - 27s/epoch - 17ms/step\n",
            "Epoch 5/100\n",
            "1563/1563 - 28s - loss: 0.5810 - accuracy: 0.7995 - val_loss: 0.6044 - val_accuracy: 0.7967 - 28s/epoch - 18ms/step\n",
            "Epoch 6/100\n",
            "1563/1563 - 28s - loss: 0.5114 - accuracy: 0.8231 - val_loss: 0.6155 - val_accuracy: 0.7934 - 28s/epoch - 18ms/step\n",
            "Epoch 7/100\n",
            "1563/1563 - 28s - loss: 0.4518 - accuracy: 0.8443 - val_loss: 0.6096 - val_accuracy: 0.8046 - 28s/epoch - 18ms/step\n",
            "Epoch 8/100\n",
            "1563/1563 - 27s - loss: 0.4090 - accuracy: 0.8579 - val_loss: 0.6663 - val_accuracy: 0.7890 - 27s/epoch - 18ms/step\n",
            "Epoch 9/100\n",
            "1563/1563 - 27s - loss: 0.3607 - accuracy: 0.8751 - val_loss: 0.5593 - val_accuracy: 0.8212 - 27s/epoch - 17ms/step\n",
            "Epoch 10/100\n",
            "1563/1563 - 28s - loss: 0.3236 - accuracy: 0.8870 - val_loss: 0.5971 - val_accuracy: 0.8137 - 28s/epoch - 18ms/step\n",
            "Epoch 11/100\n",
            "1563/1563 - 27s - loss: 0.2932 - accuracy: 0.8987 - val_loss: 0.5531 - val_accuracy: 0.8309 - 27s/epoch - 17ms/step\n",
            "Epoch 12/100\n",
            "1563/1563 - 27s - loss: 0.2581 - accuracy: 0.9117 - val_loss: 0.5620 - val_accuracy: 0.8302 - 27s/epoch - 18ms/step\n",
            "Epoch 13/100\n",
            "1563/1563 - 27s - loss: 0.2422 - accuracy: 0.9177 - val_loss: 0.6429 - val_accuracy: 0.8260 - 27s/epoch - 17ms/step\n",
            "Epoch 14/100\n",
            "1563/1563 - 27s - loss: 0.2139 - accuracy: 0.9269 - val_loss: 0.6075 - val_accuracy: 0.8250 - 27s/epoch - 17ms/step\n",
            "Epoch 15/100\n",
            "1563/1563 - 27s - loss: 0.1994 - accuracy: 0.9324 - val_loss: 0.6443 - val_accuracy: 0.8269 - 27s/epoch - 17ms/step\n",
            "Epoch 16/100\n",
            "1563/1563 - 28s - loss: 0.1847 - accuracy: 0.9358 - val_loss: 0.5881 - val_accuracy: 0.8324 - 28s/epoch - 18ms/step\n",
            "Epoch 17/100\n",
            "1563/1563 - 27s - loss: 0.1710 - accuracy: 0.9411 - val_loss: 0.6140 - val_accuracy: 0.8331 - 27s/epoch - 17ms/step\n",
            "Epoch 18/100\n",
            "1563/1563 - 28s - loss: 0.1628 - accuracy: 0.9443 - val_loss: 0.6814 - val_accuracy: 0.8290 - 28s/epoch - 18ms/step\n",
            "Epoch 19/100\n",
            "1563/1563 - 28s - loss: 0.1484 - accuracy: 0.9496 - val_loss: 0.7061 - val_accuracy: 0.8368 - 28s/epoch - 18ms/step\n",
            "Epoch 20/100\n",
            "1563/1563 - 27s - loss: 0.1398 - accuracy: 0.9526 - val_loss: 0.6865 - val_accuracy: 0.8337 - 27s/epoch - 17ms/step\n",
            "Epoch 21/100\n",
            "1563/1563 - 27s - loss: 0.1401 - accuracy: 0.9524 - val_loss: 0.6463 - val_accuracy: 0.8360 - 27s/epoch - 17ms/step\n",
            "313/313 - 2s - loss: 0.6463 - accuracy: 0.8360 - 2s/epoch - 7ms/step\n",
            "Total Accuracy 0.8360000252723694\n"
          ]
        },
        {
          "output_type": "display_data",
          "data": {
            "text/plain": [
              "<Figure size 864x288 with 2 Axes>"
            ],
            "image/png": "[encoded data removed]"
          },
          "metadata": {
            "needs_background": "light"
          }
        }
      ],
      "source": [
        "run_model()"
      ]
    }
  ],
  "metadata": {
    "accelerator": "GPU",
    "colab": {
      "collapsed_sections": [],
      "name": "Regularization and Normalization.ipynb",
      "provenance": []
    },
    "kernelspec": {
      "display_name": "Python 3",
      "name": "python3"
    },
    "language_info": {
      "name": "python"
    }
  },
  "nbformat": 4,
  "nbformat_minor": 0
}